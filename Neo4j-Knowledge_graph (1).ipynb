{
 "cells": [
  {
   "cell_type": "code",
   "execution_count": null,
   "metadata": {
    "id": "v-zlbWef-9Hh"
   },
   "outputs": [],
   "source": [
    "from langchain.chains import GraphCypherQAChain\n",
    "from langchain_groq import ChatGroq\n",
    "from langchain_community.llms import OpenAIChat\n",
    "from langchain.graphs import Neo4jGraph"
   ]
  },
  {
   "cell_type": "code",
   "execution_count": null,
   "metadata": {
    "id": "tqXnt9OjEtPV"
   },
   "outputs": [],
   "source": [
    "import neo4j\n",
    "from langchain_groq import ChatGroq\n",
    "graph=Neo4jGraph(NEO4J_URI,NEO4J_USERNAME,NEO4J_PASSWORD)"
   ]
  },
  {
   "cell_type": "code",
   "execution_count": null,
   "metadata": {
    "id": "KqaoaEUJFQkx"
   },
   "outputs": [],
   "source": [
    "llm = ChatGroq(temperature=0, groq_api_key=groq_api, model_name=\"mixtral-8x7b-32768\")"
   ]
  },
  {
   "cell_type": "code",
   "execution_count": null,
   "metadata": {
    "colab": {
     "base_uri": "https://localhost:8080/",
     "height": 70
    },
    "id": "HYrKpteKF-_h",
    "outputId": "23b3f48d-d0b8-4f6d-c69c-cabc82735e2b"
   },
   "outputs": [
    {
     "data": {
      "application/vnd.google.colaboratory.intrinsic+json": {
       "type": "string"
      },
      "text/plain": [
       "'Node properties are the following:\\nPatient {id: STRING, name: STRING, gender: STRING, age: INTEGER, location: STRING},Prescription {id: STRING, end_date: STRING, instructions: STRING, dosage: STRING, medication: STRING, time: STRING, start_date: STRING, frequency: STRING}\\nRelationship properties are the following:\\n\\nThe relationships are the following:\\n(:Patient)-[:HAS_PRESCRIPTION]->(:Prescription),(:Prescription)-[:FOR_PATIENT]->(:Patient)'"
      ]
     },
     "execution_count": 103,
     "metadata": {},
     "output_type": "execute_result"
    }
   ],
   "source": [
    "graph.schema"
   ]
  },
  {
   "cell_type": "code",
   "execution_count": null,
   "metadata": {
    "colab": {
     "base_uri": "https://localhost:8080/",
     "height": 186
    },
    "id": "eIOVWXPDE4ML",
    "outputId": "6dab6233-a08b-42ea-db6e-5fdd7a4dcd32"
   },
   "outputs": [
    {
     "data": {
      "text/html": [
       "<div style=\"max-width:800px; border: 1px solid var(--colab-border-color);\"><style>\n",
       "      pre.function-repr-contents {\n",
       "        overflow-x: auto;\n",
       "        padding: 8px 12px;\n",
       "        max-height: 500px;\n",
       "      }\n",
       "\n",
       "      pre.function-repr-contents.function-repr-contents-collapsed {\n",
       "        cursor: pointer;\n",
       "        max-height: 100px;\n",
       "      }\n",
       "    </style>\n",
       "    <pre style=\"white-space: initial; background:\n",
       "         var(--colab-secondary-surface-color); padding: 8px 12px;\n",
       "         border-bottom: 1px solid var(--colab-border-color);\"><b>langchain.chains.graph_qa.cypher.GraphCypherQAChain</b><br/>def warning_emitting_wrapper(*args: Any, **kwargs: Any) -&gt; Any</pre><pre class=\"function-repr-contents function-repr-contents-collapsed\" style=\"\"><a class=\"filepath\" style=\"display:none\" href=\"#\">/usr/local/lib/python3.10/dist-packages/langchain/chains/graph_qa/cypher.py</a>Chain for question-answering against a graph by generating Cypher statements.\n",
       "\n",
       "*Security note*: Make sure that the database connection uses credentials\n",
       "    that are narrowly-scoped to only include necessary permissions.\n",
       "    Failure to do so may result in data corruption or loss, since the calling\n",
       "    code may attempt commands that would result in deletion, mutation\n",
       "    of data if appropriately prompted or reading sensitive data if such\n",
       "    data is present in the database.\n",
       "    The best way to guard against such negative outcomes is to (as appropriate)\n",
       "    limit the permissions granted to the credentials used with this tool.\n",
       "\n",
       "    See https://python.langchain.com/docs/security for more information.</pre>\n",
       "      <script>\n",
       "      if (google.colab.kernel.accessAllowed && google.colab.files && google.colab.files.view) {\n",
       "        for (const element of document.querySelectorAll('.filepath')) {\n",
       "          element.style.display = 'block'\n",
       "          element.onclick = (event) => {\n",
       "            event.preventDefault();\n",
       "            event.stopPropagation();\n",
       "            google.colab.files.view(element.textContent, 101);\n",
       "          };\n",
       "        }\n",
       "      }\n",
       "      for (const element of document.querySelectorAll('.function-repr-contents')) {\n",
       "        element.onclick = (event) => {\n",
       "          event.preventDefault();\n",
       "          event.stopPropagation();\n",
       "          element.classList.toggle('function-repr-contents-collapsed');\n",
       "        };\n",
       "      }\n",
       "      </script>\n",
       "      </div>"
      ],
      "text/plain": [
       "langchain.chains.graph_qa.cypher.GraphCypherQAChain"
      ]
     },
     "execution_count": 100,
     "metadata": {},
     "output_type": "execute_result"
    }
   ],
   "source": [
    "# p1= \"Consider yourself as a CYPHER language expert for Neo4j. Based on the below, generate the query. Do not include any comments or explanations\"\n",
    "# p2 = GraphCypherQAChain.from_llm(\n",
    "#     ChatGroq(temperature=0, groq_api_key=groq_api, model_name=\"mixtral-8x7b-32768\"), graph=graph, verbose=True)\n",
    "\n",
    "p2 = GraphCypherQAChain.from_llm(\n",
    "    OpenAIChat(temperature=0,), graph=graph, verbose=True)"
   ]
  },
  {
   "cell_type": "markdown",
   "metadata": {
    "id": "BRGjBhulXF8j"
   },
   "source": [
    "# **Start Here**"
   ]
  },
  {
   "cell_type": "code",
   "execution_count": 72,
   "metadata": {
    "id": "aTYP-_j95FEY"
   },
   "outputs": [],
   "source": [
    "# %pip install groq\n",
    "# %pip install neo4j\n",
    "# %pip install langchain\n",
    "# !pip install openai"
   ]
  },
  {
   "cell_type": "code",
   "execution_count": 2,
   "metadata": {
    "id": "jqBTQgf26Co-"
   },
   "outputs": [],
   "source": [
    "from groq import Groq\n",
    "import neo4j\n",
    "from langchain.graphs import Neo4jGraph"
   ]
  },
  {
   "cell_type": "code",
   "execution_count": 75,
   "metadata": {
    "id": "28CmWOf20P_Q"
   },
   "outputs": [],
   "source": [
    "def first_ans(question, response):\n",
    "  print(response)\n",
    "  query=f'''\n",
    "  Consider you are answering a patient over a phone call\n",
    "  Following is the Question asked by Patient: {question}\n",
    "  Following is the answer for the question: {response}.\n",
    "\n",
    "  Use this information to make remind the person in the question and answer any queries they may have to take his medication. mention the time as well.\n",
    "  Example reminder: Hi XYZ. This is to remind you that you have to take your abc medication at x o clock. Have you taken it?\n",
    "  I only want the response. Stricitly no comments or explantion of any type\n",
    "  '''\n",
    "  ans=call_llm(query)\n",
    "  return ans"
   ]
  },
  {
   "cell_type": "code",
   "execution_count": 77,
   "metadata": {
    "id": "8NPR-GHXljUL"
   },
   "outputs": [],
   "source": [
    "def conversation(bot):\n",
    "  query='Consider you are a medicine assistant reminder and call agent serving medical queries over phone. Complete the follwing conversation playing the role of medicine reminder assistant. If user has any queries, inform them that you will pass it on to the doctor.\\n\\n I only want the response. Stricitly no comments, no notes or explantion of any type'\n",
    "  user_msg= input()\n",
    "  while True:\n",
    "    if user_msg:\n",
    "      user_msg='Patient: '+user_msg\n",
    "      bot_msg= 'Medicine assistant reminder: '+ bot\n",
    "      # print(user_msg)\n",
    "      query= query+'\\n'+ bot_msg+'\\n'+user_msg\n",
    "      print(query)\n",
    "      bot=call_llm(query)\n",
    "      print(\"Bot: \"+bot)\n",
    "      user_msg= input()\n",
    "    else:\n",
    "      break\n"
   ]
  },
  {
   "cell_type": "code",
   "execution_count": 59,
   "metadata": {
    "id": "oPGQklJl5OPV"
   },
   "outputs": [],
   "source": [
    "def load_graph(username,password,uri):\n",
    "  # graph=(NEO4J_URI,NEO4J_USERNAME,NEO4J_PASSWORD)\n",
    "  graph= Neo4jGraph(uri,username,password)\n",
    "  return graph"
   ]
  },
  {
   "cell_type": "code",
   "execution_count": 78,
   "metadata": {
    "id": "EUDpLvbkYuw4"
   },
   "outputs": [],
   "source": [
    "def return_query(graph):\n",
    "  query=\"Consider yourself as a Neo4J expert. Given the following schema of a Neo4j graph database, \"+ str(graph.schema)+\" \\nWrite a cypher query to answer the following question: \\n. \"\n",
    "  question=input()\n",
    "  query=query+question\n",
    "  query=query+\" Just give the query so that I can copy paste the query and directly execute it. Stricitly no comments or special characters or explantion of any type\"\n",
    "  response=call_llm(query)\n",
    "  response=response.replace(\"`\",'')\n",
    "  return question,graph.query(response)\n"
   ]
  },
  {
   "cell_type": "code",
   "execution_count": 79,
   "metadata": {
    "colab": {
     "base_uri": "https://localhost:8080/"
    },
    "id": "yxXSjszi5QWf",
    "outputId": "cbdbdcc8-ab77-4005-8044-3848c8f974cd"
   },
   "outputs": [
    {
     "name": "stdout",
     "output_type": "stream",
     "text": [
      "Jane Smith\n",
      "[{'prescription': {'end_date': '2024-04-15', 'instructions': 'Take on an empty stomach', 'dosage': '20mg', 'medication': 'MedB', 'id': 'Rx2', 'time': 'Evening', 'start_date': '2024-03-15', 'frequency': 'Twice daily'}}]\n",
      "Hello Jane, this is a reminder for your medication. You should take MedB, 20mg, twice daily - once in the morning and once in the evening. The evening dose should be taken on an empty stomach. Today's evening dose is due, have you taken it?\n",
      "Thanks. I'll take it now. I also feel drowsy after taking medicine\n",
      "Consider you are a medicine assistant reminder and call agent serving medical queries over phone. Complete the follwing conversation playing the role of medicine reminder assistant. If user has any queries, inform them that you will pass it on to the doctor.\n",
      "\n",
      " I only want the response. Stricitly no comments, no notes or explantion of any type\n",
      "Medicine assistant reminder: Hello Jane, this is a reminder for your medication. You should take MedB, 20mg, twice daily - once in the morning and once in the evening. The evening dose should be taken on an empty stomach. Today's evening dose is due, have you taken it?\n",
      "Patient: Thanks. I'll take it now. I also feel drowsy after taking medicine\n",
      "Bot: I'm glad to hear that you will take your medication now. Regarding your feeling of drowsiness after taking the medicine, I will make sure to pass this information on to your doctor. If you have any other concerns or questions, please don't hesitate to let me know. Have a good day.\n",
      "\n"
     ]
    }
   ],
   "source": [
    "\n",
    "\n",
    "graph=load_graph(NEO4J_USERNAME,NEO4J_PASSWORD,NEO4J_URI)\n",
    "response=return_query(graph)\n",
    "bot1_ans=(first_ans(response[0],response[1]))\n",
    "print(bot1_ans)\n",
    "conversation(bot1_ans)"
   ]
  },
  {
   "cell_type": "code",
   "execution_count": null,
   "metadata": {
    "id": "JnSj-TCfPmFM"
   },
   "outputs": [],
   "source": []
  }
 ],
 "metadata": {
  "colab": {
   "provenance": []
  },
  "kernelspec": {
   "display_name": "Python 3 (ipykernel)",
   "language": "python",
   "name": "python3"
  },
  "language_info": {
   "codemirror_mode": {
    "name": "ipython",
    "version": 3
   },
   "file_extension": ".py",
   "mimetype": "text/x-python",
   "name": "python",
   "nbconvert_exporter": "python",
   "pygments_lexer": "ipython3",
   "version": "3.9.12"
  }
 },
 "nbformat": 4,
 "nbformat_minor": 1
}
